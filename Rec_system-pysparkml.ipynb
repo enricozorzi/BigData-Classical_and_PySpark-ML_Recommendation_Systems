{
 "cells": [
  {
   "cell_type": "markdown",
   "id": "43f60fd1",
   "metadata": {},
   "source": [
    "\n",
    "# Recommendation System using PySpark\n",
    "\n",
    "This notebook demonstrates how to build a recommendation system using PySpark. We will use collaborative filtering, a popular recommendation technique, and the Alternating Least Squares (ALS) algorithm to predict user ratings for items and make recommendations.\n"
   ]
  },
  {
   "cell_type": "markdown",
   "metadata": {
    "papermill": {
     "duration": 0.235101,
     "end_time": "2022-04-19T00:30:34.325867",
     "exception": false,
     "start_time": "2022-04-19T00:30:34.090766",
     "status": "completed"
    },
    "tags": []
   },
   "source": [
    "### Imports"
   ]
  },
  {
   "cell_type": "code",
   "execution_count": 6,
   "metadata": {
    "execution": {
     "iopub.execute_input": "2022-04-19T00:30:34.808492Z",
     "iopub.status.busy": "2022-04-19T00:30:34.807720Z",
     "iopub.status.idle": "2022-04-19T00:30:35.927575Z",
     "shell.execute_reply": "2022-04-19T00:30:35.926993Z",
     "shell.execute_reply.started": "2022-04-15T11:17:30.505775Z"
    },
    "papermill": {
     "duration": 1.364717,
     "end_time": "2022-04-19T00:30:35.927707",
     "exception": false,
     "start_time": "2022-04-19T00:30:34.562990",
     "status": "completed"
    },
    "tags": []
   },
   "outputs": [],
   "source": [
    "# core\n",
    "import numpy as np \n",
    "import matplotlib.pyplot as plt\n",
    "from matplotlib.patches import Rectangle\n",
    "\n",
    "# spark & ML\n",
    "import findspark\n",
    "findspark.init()\n",
    "from pyspark.ml.tuning import ParamGridBuilder, CrossValidator\n",
    "from pyspark.sql import SparkSession\n",
    "from pyspark.sql.functions import col\n",
    "from pyspark.ml.feature import StringIndexer\n",
    "from pyspark.ml.recommendation import ALS\n",
    "from pyspark.ml.evaluation import RegressionEvaluator\n",
    "from pyspark import StorageLevel\n",
    "from pyspark.sql.types import IntegerType\n",
    "from pyspark.sql.functions import col, when"
   ]
  },
  {
   "cell_type": "markdown",
   "metadata": {},
   "source": [
    "## Crerate a spark session\n"
   ]
  },
  {
   "cell_type": "code",
   "execution_count": 7,
   "metadata": {},
   "outputs": [],
   "source": [
    "#spark.stop()"
   ]
  },
  {
   "cell_type": "code",
   "execution_count": 8,
   "metadata": {
    "execution": {
     "iopub.execute_input": "2022-04-19T00:30:36.423682Z",
     "iopub.status.busy": "2022-04-19T00:30:36.422925Z",
     "iopub.status.idle": "2022-04-19T00:30:43.194121Z",
     "shell.execute_reply": "2022-04-19T00:30:43.192634Z",
     "shell.execute_reply.started": "2022-04-15T11:17:31.50887Z"
    },
    "papermill": {
     "duration": 7.024807,
     "end_time": "2022-04-19T00:30:43.194355",
     "exception": false,
     "start_time": "2022-04-19T00:30:36.169548",
     "status": "completed"
    },
    "tags": []
   },
   "outputs": [
    {
     "data": {
      "text/html": [
       "\n",
       "            <div>\n",
       "                <p><b>SparkSession - in-memory</b></p>\n",
       "                \n",
       "        <div>\n",
       "            <p><b>SparkContext</b></p>\n",
       "\n",
       "            <p><a href=\"http://PC:4040\">Spark UI</a></p>\n",
       "\n",
       "            <dl>\n",
       "              <dt>Version</dt>\n",
       "                <dd><code>v3.5.1</code></dd>\n",
       "              <dt>Master</dt>\n",
       "                <dd><code>local[*]</code></dd>\n",
       "              <dt>AppName</dt>\n",
       "                <dd><code>rec-sys</code></dd>\n",
       "            </dl>\n",
       "        </div>\n",
       "        \n",
       "            </div>\n",
       "        "
      ],
      "text/plain": [
       "<pyspark.sql.session.SparkSession at 0x251769e1ee0>"
      ]
     },
     "execution_count": 8,
     "metadata": {},
     "output_type": "execute_result"
    }
   ],
   "source": [
    "\n",
    "# create spark session\n",
    "spark = SparkSession.builder.appName('rec-sys')\\\n",
    "    .config(\"spark.python.profile.memory\",\"true\")\\\n",
    "    .config(\"spark.driver.memory\", \"15g\")\\\n",
    "    .config(\"spark.executor.memory\", \"15g\")\\\n",
    "    .getOrCreate()\n",
    "sc = spark.sparkContext\n",
    "spark"
   ]
  },
  {
   "cell_type": "markdown",
   "metadata": {},
   "source": [
    "\n",
    "## Loading Data\n",
    "\n",
    "First, we load the required datasets. \n",
    "\n",
    "The most important dataset is the **book ratings dataset**, which contains the ratings given by users to books.<br>\n",
    "\n",
    "We also load the books dataset, which contains information about the books for better understanding.\n"
   ]
  },
  {
   "cell_type": "code",
   "execution_count": 9,
   "metadata": {
    "execution": {
     "iopub.execute_input": "2022-04-19T00:30:44.156659Z",
     "iopub.status.busy": "2022-04-19T00:30:44.155618Z",
     "iopub.status.idle": "2022-04-19T00:30:53.227229Z",
     "shell.execute_reply": "2022-04-19T00:30:53.228385Z",
     "shell.execute_reply.started": "2022-04-15T11:17:37.221413Z"
    },
    "papermill": {
     "duration": 9.31473,
     "end_time": "2022-04-19T00:30:53.228725",
     "exception": false,
     "start_time": "2022-04-19T00:30:43.913995",
     "status": "completed"
    },
    "tags": []
   },
   "outputs": [
    {
     "name": "stdout",
     "output_type": "stream",
     "text": [
      "+-------+----------+-----------+\n",
      "|User-ID|      ISBN|Book-Rating|\n",
      "+-------+----------+-----------+\n",
      "| 276725|034545104X|          0|\n",
      "| 276726|0155061224|          5|\n",
      "+-------+----------+-----------+\n",
      "only showing top 2 rows\n",
      "\n"
     ]
    },
    {
     "data": {
      "text/plain": [
       "DataFrame[User-ID: int, ISBN: string, Book-Rating: int]"
      ]
     },
     "execution_count": 9,
     "metadata": {},
     "output_type": "execute_result"
    }
   ],
   "source": [
    "ratings_df = spark.read.csv('BX-Book-Ratings.csv', sep=';', inferSchema=True, header=True)\n",
    "ratings_df.show(2)\n",
    "\n",
    "ratings_df.persist(StorageLevel.MEMORY_AND_DISK)"
   ]
  },
  {
   "cell_type": "code",
   "execution_count": 10,
   "metadata": {},
   "outputs": [
    {
     "data": {
      "image/png": "[encoded data removed]",
      "text/plain": [
       "<Figure size 640x480 with 1 Axes>"
      ]
     },
     "metadata": {},
     "output_type": "display_data"
    },
    {
     "name": "stdout",
     "output_type": "stream",
     "text": [
      "Number of ratings:  1149780\n",
      "Number of unique users:  105283\n",
      "Number of unique books:  340556\n",
      "Number of 0 ratings:  716109\n",
      "Number of 1 ratings:  1770\n",
      "Number of 2 ratings:  2759\n",
      "Number of 3 ratings:  5996\n",
      "Number of 4 ratings:  8904\n",
      "Number of 5 ratings:  50974\n",
      "Number of 6 ratings:  36924\n",
      "Number of 7 ratings:  76457\n",
      "Number of 8 ratings:  103736\n",
      "Number of 9 ratings:  67541\n",
      "Number of 10 ratings:  78610\n"
     ]
    }
   ],
   "source": [
    "# plot the distribution of ratings usng matplotlib and  use in x-axis all the unique ratings and in y-axis the count of each rating\n",
    "distribution = ratings_df.groupBy('Book-Rating').count().toPandas()\n",
    "distribution = distribution.sort_values(by='Book-Rating')\n",
    "plt.bar(distribution['Book-Rating'], distribution['count'])\n",
    "plt.xlabel('Rating')\n",
    "plt.ylabel('Count')\n",
    "plt.title('Distribution of Ratings')\n",
    "plt.xticks(distribution['Book-Rating'])\n",
    "plt.show()\n",
    "\n",
    "print(\"Number of ratings: \", ratings_df.count())\n",
    "\n",
    "print(\"Number of unique users: \", ratings_df.select('User-ID').distinct().count())\n",
    "\n",
    "print(\"Number of unique books: \", ratings_df.select('ISBN').distinct().count())\n",
    "\n",
    "# print number of 0 ratings \n",
    "print(\"Number of 0 ratings: \", ratings_df.filter(col('Book-Rating') == 0).count())\n",
    "print(\"Number of 1 ratings: \", ratings_df.filter(col('Book-Rating') == 1).count())\n",
    "print(\"Number of 2 ratings: \", ratings_df.filter(col('Book-Rating') == 2).count())\n",
    "print(\"Number of 3 ratings: \", ratings_df.filter(col('Book-Rating') == 3).count())\n",
    "print(\"Number of 4 ratings: \", ratings_df.filter(col('Book-Rating') == 4).count())\n",
    "print(\"Number of 5 ratings: \", ratings_df.filter(col('Book-Rating') == 5).count())\n",
    "print(\"Number of 6 ratings: \", ratings_df.filter(col('Book-Rating') == 6).count())\n",
    "print(\"Number of 7 ratings: \", ratings_df.filter(col('Book-Rating') == 7).count())\n",
    "print(\"Number of 8 ratings: \", ratings_df.filter(col('Book-Rating') == 8).count())\n",
    "print(\"Number of 9 ratings: \", ratings_df.filter(col('Book-Rating') == 9).count())\n",
    "print(\"Number of 10 ratings: \", ratings_df.filter(col('Book-Rating') == 10).count())"
   ]
  },
  {
   "cell_type": "code",
   "execution_count": 11,
   "metadata": {
    "execution": {
     "iopub.execute_input": "2022-04-19T00:30:54.232133Z",
     "iopub.status.busy": "2022-04-19T00:30:54.231351Z",
     "iopub.status.idle": "2022-04-19T00:30:56.516642Z",
     "shell.execute_reply": "2022-04-19T00:30:56.515667Z",
     "shell.execute_reply.started": "2022-04-15T15:29:09.202983Z"
    },
    "papermill": {
     "duration": 2.521305,
     "end_time": "2022-04-19T00:30:56.516849",
     "exception": false,
     "start_time": "2022-04-19T00:30:53.995544",
     "status": "completed"
    },
    "tags": []
   },
   "outputs": [
    {
     "name": "stdout",
     "output_type": "stream",
     "text": [
      "+----------+-------------------+--------------------+-------------------+--------------------+\n",
      "|      ISBN|         Book-Title|         Book-Author|Year-Of-Publication|           Publisher|\n",
      "+----------+-------------------+--------------------+-------------------+--------------------+\n",
      "|0195153448|Classical Mythology|  Mark P. O. Morford|               2002|Oxford University...|\n",
      "|0002005018|       Clara Callan|Richard Bruce Wright|               2001|HarperFlamingo Ca...|\n",
      "+----------+-------------------+--------------------+-------------------+--------------------+\n",
      "only showing top 2 rows\n",
      "\n"
     ]
    }
   ],
   "source": [
    "books_df = spark.read.csv('BX-Books.csv', sep=';', inferSchema=True, header=True)\n",
    "books_df = books_df.drop('Image-URL-S', 'Image-URL-M', 'Image-URL-L')\n",
    "\n",
    "books_df.persist(StorageLevel.MEMORY_AND_DISK)\n",
    "books_df.show(2)"
   ]
  },
  {
   "cell_type": "markdown",
   "metadata": {},
   "source": [
    "\n",
    "## Data Preprocessing\n",
    "\n",
    "In this section, we preprocess the data to make it suitable for building the recommendation model. This involves:\n",
    "- Converting the ISBN column to an integer type\n",
    "- Splitting the data into training and testing sets"
   ]
  },
  {
   "cell_type": "code",
   "execution_count": 12,
   "metadata": {
    "execution": {
     "iopub.execute_input": "2022-04-19T00:30:57.042073Z",
     "iopub.status.busy": "2022-04-19T00:30:57.040822Z",
     "iopub.status.idle": "2022-04-19T00:31:06.538388Z",
     "shell.execute_reply": "2022-04-19T00:31:06.537566Z",
     "shell.execute_reply.started": "2022-04-15T11:17:45.859901Z"
    },
    "papermill": {
     "duration": 9.74291,
     "end_time": "2022-04-19T00:31:06.538577",
     "exception": false,
     "start_time": "2022-04-19T00:30:56.795667",
     "status": "completed"
    },
    "tags": []
   },
   "outputs": [
    {
     "name": "stdout",
     "output_type": "stream",
     "text": [
      "+-------+----------+-----------+--------+\n",
      "|User-ID|      ISBN|Book-Rating|ISBN_int|\n",
      "+-------+----------+-----------+--------+\n",
      "| 276726|0155061224|          5| 89067.0|\n",
      "| 276729|052165615X|          3|205984.0|\n",
      "| 276729|0521795028|          6|206014.0|\n",
      "| 276736|3257224281|          8| 43132.0|\n",
      "| 276737|0600570967|          6|216574.0|\n",
      "| 276744|038550120X|          7|   232.0|\n",
      "| 276745| 342310538|         10|135627.0|\n",
      "| 276747|0060517794|          9|  1413.0|\n",
      "| 276747|0671537458|          9|   914.0|\n",
      "| 276747|0679776818|          8|  2367.0|\n",
      "+-------+----------+-----------+--------+\n",
      "only showing top 10 rows\n",
      "\n"
     ]
    }
   ],
   "source": [
    "stringToInt = StringIndexer(inputCol='ISBN', outputCol='ISBN_int').fit(ratings_df)  # Convert ISBN string  to int\n",
    "ratings_dfs = stringToInt.transform(ratings_df)                                     # Add new column ISBN_int\n",
    "ratings_df = ratings_dfs.filter(ratings_dfs['Book-Rating'] != 0)                    # Remove 0 ratings\n",
    "\n",
    "ratings_df.persist(StorageLevel.MEMORY_AND_DISK)\n",
    "ratings_df.show(10)"
   ]
  },
  {
   "cell_type": "code",
   "execution_count": 13,
   "metadata": {},
   "outputs": [
    {
     "data": {
      "image/png": "[encoded data removed]",
      "text/plain": [
       "<Figure size 640x480 with 1 Axes>"
      ]
     },
     "metadata": {},
     "output_type": "display_data"
    },
    {
     "name": "stdout",
     "output_type": "stream",
     "text": [
      "Number of ratings:  433671\n",
      "Number of unique users:  77805\n",
      "Number of unique books:  185973\n",
      "Number of 0 ratings:  0\n",
      "Number of 1 ratings:  1770\n",
      "Number of 2 ratings:  2759\n",
      "Number of 3 ratings:  5996\n",
      "Number of 4 ratings:  8904\n",
      "Number of 5 ratings:  50974\n",
      "Number of 6 ratings:  36924\n",
      "Number of 7 ratings:  76457\n",
      "Number of 8 ratings:  103736\n",
      "Number of 9 ratings:  67541\n",
      "Number of 10 ratings:  78610\n"
     ]
    }
   ],
   "source": [
    "distribution = ratings_df.groupBy('Book-Rating').count().toPandas()\n",
    "distribution = distribution.sort_values(by='Book-Rating')\n",
    "plt.bar(distribution['Book-Rating'], distribution['count'])\n",
    "plt.xlabel('Rating')\n",
    "plt.ylabel('Count')\n",
    "plt.title('Distribution of Ratings')\n",
    "plt.xticks(distribution['Book-Rating'])\n",
    "plt.show()\n",
    "print(\"Number of ratings: \", ratings_df.count())\n",
    "\n",
    "print(\"Number of unique users: \", ratings_df.select('User-ID').distinct().count())\n",
    "\n",
    "print(\"Number of unique books: \", ratings_df.select('ISBN').distinct().count())\n",
    "\n",
    "# print number of 0 ratings\n",
    "print(\"Number of 0 ratings: \", ratings_df.filter(col('Book-Rating') == 0).count())\n",
    "print(\"Number of 1 ratings: \", ratings_df.filter(col('Book-Rating') == 1).count())\n",
    "print(\"Number of 2 ratings: \", ratings_df.filter(col('Book-Rating') == 2).count())\n",
    "print(\"Number of 3 ratings: \", ratings_df.filter(col('Book-Rating') == 3).count())\n",
    "print(\"Number of 4 ratings: \", ratings_df.filter(col('Book-Rating') == 4).count())\n",
    "print(\"Number of 5 ratings: \", ratings_df.filter(col('Book-Rating') == 5).count())\n",
    "print(\"Number of 6 ratings: \", ratings_df.filter(col('Book-Rating') == 6).count())\n",
    "print(\"Number of 7 ratings: \", ratings_df.filter(col('Book-Rating') == 7).count())\n",
    "print(\"Number of 8 ratings: \", ratings_df.filter(col('Book-Rating') == 8).count())\n",
    "print(\"Number of 9 ratings: \", ratings_df.filter(col('Book-Rating') == 9).count())\n",
    "print(\"Number of 10 ratings: \", ratings_df.filter(col('Book-Rating') == 10).count())"
   ]
  },
  {
   "cell_type": "code",
   "execution_count": 86,
   "metadata": {},
   "outputs": [
    {
     "name": "stdout",
     "output_type": "stream",
     "text": [
      "+-------+----------+-----------+--------+\n",
      "|User-ID|      ISBN|Book-Rating|ISBN_int|\n",
      "+-------+----------+-----------+--------+\n",
      "| 276726|0155061224|          5|   89067|\n",
      "| 276729|052165615X|          3|  205984|\n",
      "| 276729|0521795028|          6|  206014|\n",
      "| 276736|3257224281|          8|   43132|\n",
      "| 276737|0600570967|          6|  216574|\n",
      "| 276744|038550120X|          7|     232|\n",
      "| 276745| 342310538|         10|  135627|\n",
      "| 276747|0060517794|          9|    1413|\n",
      "| 276747|0671537458|          9|     914|\n",
      "| 276747|0679776818|          8|    2367|\n",
      "+-------+----------+-----------+--------+\n",
      "only showing top 10 rows\n",
      "\n"
     ]
    }
   ],
   "source": [
    "# Transform ISBN_int to integer type\n",
    "ratings_df = ratings_df.withColumn(\"ISBN_int\", ratings_df[\"ISBN_int\"].cast(IntegerType()))\n",
    "ratings_df.persist(StorageLevel.MEMORY_AND_DISK)\n",
    "ratings_df.show(10)"
   ]
  },
  {
   "cell_type": "markdown",
   "metadata": {},
   "source": [
    "split the data into training and testing sets. We will use 80% of the data for training and 20% for testing."
   ]
  },
  {
   "cell_type": "code",
   "execution_count": 87,
   "metadata": {
    "execution": {
     "iopub.execute_input": "2022-04-19T00:31:07.183137Z",
     "iopub.status.busy": "2022-04-19T00:31:07.181922Z",
     "iopub.status.idle": "2022-04-19T00:31:07.212858Z",
     "shell.execute_reply": "2022-04-19T00:31:07.212213Z",
     "shell.execute_reply.started": "2022-04-15T11:17:56.277954Z"
    },
    "papermill": {
     "duration": 0.299453,
     "end_time": "2022-04-19T00:31:07.213006",
     "exception": false,
     "start_time": "2022-04-19T00:31:06.913553",
     "status": "completed"
    },
    "tags": []
   },
   "outputs": [],
   "source": [
    "train_df, test_df = ratings_df.randomSplit([0.8,0.2])"
   ]
  },
  {
   "cell_type": "markdown",
   "metadata": {
    "papermill": {
     "duration": 0.230037,
     "end_time": "2022-04-19T00:31:07.672464",
     "exception": false,
     "start_time": "2022-04-19T00:31:07.442427",
     "status": "completed"
    },
    "tags": []
   },
   "source": [
    "\n",
    "## Building the ALS Model\n",
    "\n",
    "We use the Alternating Least Squares (ALS) algorithm to build the recommendation model.\n",
    "ALS is particularly well-suited for collaborative filtering with large-scale datasets.\n",
    "\n",
    "### Steps:\n",
    "1. **Initialize the ALS model**: Specify parameters like the rank, maximum number of iterations, and regularization parameter.\n",
    "    - **rank**: The number of features\n",
    "    - **maxIter**: The maximum number of iterations to run.\n",
    "    - **regParam**: The regularization parameter to prevent overfitting.\n",
    "\n",
    "2. **Initialize param_grid**: we will use cross-validation to tune the ALS model. We specify a grid of hyperparameters and use cross-validation to determine the best model.\n",
    "    - **rank**: [1, 10, 20]\n",
    "    - **maxIter**: [5, 10, 20]\n",
    "    - **regParam**: [0.25, 0.35, 0.45]\n",
    "3. **Initialize CrossValidator**: Specify the estimator (ALS model), evaluator (RegressionEvaluator), paramGrid and number of folds.\n",
    "4. **Fit the model**: Fit the ALS model to the training data.\n",
    "5. **Select the best model**: Select the best model based on the cross-validation results."
   ]
  },
  {
   "cell_type": "code",
   "execution_count": 88,
   "metadata": {},
   "outputs": [],
   "source": [
    "als = ALS( userCol='User-ID',itemCol='ISBN_int',ratingCol='Book-Rating',\n",
    "                nonnegative=True, coldStartStrategy=\"drop\")\n",
    "\n",
    "param_grid = ParamGridBuilder()\\\n",
    "             .addGrid(als.rank, [1])\\\n",
    "             .addGrid(als.maxIter, [20])\\\n",
    "             .addGrid(als.regParam, [0.35])\\\n",
    "             .build()\n",
    "\n",
    "evaluator = RegressionEvaluator(metricName='rmse', predictionCol='prediction',labelCol='Book-Rating')\n",
    "\n",
    "crossval = CrossValidator(\n",
    "        estimator=als,\n",
    "        estimatorParamMaps=param_grid,\n",
    "        evaluator=evaluator,\n",
    "        numFolds=3)"
   ]
  },
  {
   "cell_type": "code",
   "execution_count": 89,
   "metadata": {},
   "outputs": [],
   "source": [
    "model = crossval.fit(train_df)"
   ]
  },
  {
   "cell_type": "code",
   "execution_count": 90,
   "metadata": {},
   "outputs": [
    {
     "name": "stdout",
     "output_type": "stream",
     "text": [
      "rank:  1\n",
      "MaxIter:  20\n",
      "RegParam:  0.35\n"
     ]
    }
   ],
   "source": [
    "rec_model = model.bestModel\n",
    "\n",
    "print('rank: ', rec_model.rank)\n",
    "print('MaxIter: ', rec_model._java_obj.parent().getMaxIter())\n",
    "print('RegParam: ', rec_model._java_obj.parent().getRegParam())"
   ]
  },
  {
   "cell_type": "markdown",
   "metadata": {},
   "source": [
    "## Making predictions on test set"
   ]
  },
  {
   "cell_type": "code",
   "execution_count": 91,
   "metadata": {},
   "outputs": [
    {
     "name": "stdout",
     "output_type": "stream",
     "text": [
      "+-------+----------+-----------+--------+----------+\n",
      "|User-ID|      ISBN|Book-Rating|ISBN_int|prediction|\n",
      "+-------+----------+-----------+--------+----------+\n",
      "|   7253|0451410327|          4|   31565| 6.8967233|\n",
      "|   8086|0060928336|         10|       3|  7.349378|\n",
      "|  15447|0671040677|          6|   40202|   3.79987|\n",
      "|  15957|000716226X|          6|    7983|  5.869425|\n",
      "|  15957|0061007145|          7|    5624| 6.9440274|\n",
      "|  15957|0061007161|          5|    4839|  7.459161|\n",
      "|  15957|0446673544|          9|     910| 5.8144264|\n",
      "|  18979|042518630X|          4|     656| 6.2074394|\n",
      "|  22521|0345418778|          8|    6717| 7.4957023|\n",
      "|  22521|0812561627|          6|   17925| 6.0105414|\n",
      "|  23271|3404921348|          8|   43164|  8.017485|\n",
      "|  23271|3492260640|          5|   43300| 6.2987304|\n",
      "|  23364|0515095826|          6|    1265| 5.9669304|\n",
      "|  23571|0028604202|          8|    3182|  8.291125|\n",
      "|  23571|0140042598|          8|     709|  8.498368|\n",
      "|  23571|0395489318|         10|   22042|  8.875806|\n",
      "|  23571|0395489334|         10|   30825|      10.0|\n",
      "|  23571|0743260244|         10|    4168|  9.061492|\n",
      "|  23571|0874776945|         10|    1302|  8.992554|\n",
      "|  23571|1878685422|          8|   80353|   8.30685|\n",
      "+-------+----------+-----------+--------+----------+\n",
      "only showing top 20 rows\n",
      "\n"
     ]
    },
    {
     "data": {
      "text/plain": [
       "DataFrame[User-ID: int, ISBN: string, Book-Rating: int, ISBN_int: int, prediction: float]"
      ]
     },
     "execution_count": 91,
     "metadata": {},
     "output_type": "execute_result"
    }
   ],
   "source": [
    "predicted_ratings=rec_model.transform(test_df)\n",
    "predicted_ratings = predicted_ratings.withColumn('prediction', when(col('prediction') > 10, 10).otherwise(col('prediction')))\n",
    "predicted_ratings.show(20)\n",
    "predicted_ratings.persist(StorageLevel.MEMORY_AND_DISK)"
   ]
  },
  {
   "cell_type": "markdown",
   "metadata": {},
   "source": [
    "\n",
    "## Evaluating the Model\n",
    "\n",
    "After training the model, we evaluate its performance using metrics such as Root Mean Squared Error (RMSE). This helps in understanding how well the model is able to predict user ratings.\n"
   ]
  },
  {
   "cell_type": "code",
   "execution_count": 92,
   "metadata": {
    "execution": {
     "iopub.execute_input": "2022-04-19T00:33:21.599485Z",
     "iopub.status.busy": "2022-04-19T00:33:21.598754Z",
     "iopub.status.idle": "2022-04-19T00:33:40.485137Z",
     "shell.execute_reply": "2022-04-19T00:33:40.486034Z",
     "shell.execute_reply.started": "2022-04-15T11:40:44.091208Z"
    },
    "papermill": {
     "duration": 19.126323,
     "end_time": "2022-04-19T00:33:40.486258",
     "exception": false,
     "start_time": "2022-04-19T00:33:21.359935",
     "status": "completed"
    },
    "tags": []
   },
   "outputs": [
    {
     "name": "stdout",
     "output_type": "stream",
     "text": [
      "Root Mean Square Error:  2.1557638340538205\n"
     ]
    }
   ],
   "source": [
    "\n",
    "evaluator = RegressionEvaluator(metricName='rmse', predictionCol='prediction',labelCol='Book-Rating')\n",
    "rmse = evaluator.evaluate(predicted_ratings)\n",
    "\n",
    "print('Root Mean Square Error: ', rmse)"
   ]
  },
  {
   "cell_type": "markdown",
   "metadata": {},
   "source": [
    "## Calculate the precision\n",
    "By using the test data and the model we calculate the \"precision\" of the model, which is the number of correct recommendations made by the model divided by the total number of recommendations made by the model."
   ]
  },
  {
   "cell_type": "code",
   "execution_count": 93,
   "metadata": {},
   "outputs": [],
   "source": [
    "def precision(predicted, actual):\n",
    "    v = [1 if pred == actual[i] else 0 for i,pred in enumerate(predicted)]\n",
    "    m = sum(v)/len(v)\n",
    "    return m\n",
    "\n",
    "def precision_threshold(predicted, actual, threshold):\n",
    "    v = []\n",
    "    for i, pred in enumerate(predicted):\n",
    "        if pred <=  actual[i]+threshold and pred >= actual[i]-threshold:\n",
    "            v.append(1)\n",
    "        else:\n",
    "            v.append(0)\n",
    "\n",
    "    m = sum(v)/len(v)\n",
    "    return m"
   ]
  },
  {
   "cell_type": "code",
   "execution_count": 94,
   "metadata": {},
   "outputs": [
    {
     "name": "stdout",
     "output_type": "stream",
     "text": [
      "Precision: 0.23513302034428796\n",
      "Precision threshold: 0.829225352112676 with threshold 2\n"
     ]
    },
    {
     "data": {
      "image/png": "[encoded data removed]",
      "text/plain": [
       "<Figure size 1000x600 with 1 Axes>"
      ]
     },
     "metadata": {},
     "output_type": "display_data"
    }
   ],
   "source": [
    "prediction = predicted_ratings.select('prediction').toPandas().values.reshape(-1)\n",
    "gt = predicted_ratings.select('Book-Rating').toPandas().values.reshape(-1)\n",
    "\n",
    "prediction = np.round(prediction)\n",
    "\n",
    "threshold = 2\n",
    "\n",
    "print(f'Precision: {precision(prediction[:], gt[:])}')\n",
    "\n",
    "print(f'Precision threshold: {precision_threshold(prediction[:], gt[:], threshold)} with threshold {threshold}')\n",
    "\n",
    "\n",
    "\n",
    "# Create scatter plot\n",
    "plt.figure(figsize=(10, 6))\n",
    "# set y axist from 0 to 10\n",
    "plt.ylim(0, 11.1)\n",
    "\n",
    "plt.scatter(range(len( prediction[100:110])),  list(map(float, prediction[100:110])), color='blue', label='Predicted')\n",
    "\n",
    "for i in range(len(gt[100:110])):\n",
    "    plt.gca().add_patch(Rectangle((i-0.2,int(gt[i+100])-threshold),0.4,2*threshold,\n",
    "                    edgecolor='red',\n",
    "                    facecolor='none',\n",
    "                    lw=1))\n",
    "plt.gca().legend(('Predicted', 'Actual'))\n",
    "plt.xlabel('Index')\n",
    "plt.ylabel('Values')\n",
    "plt.title(f'Predictions with Threshold {threshold}\\nPrecision: {precision_threshold(prediction[:], gt[:], threshold)}')\n",
    "plt.show()\n"
   ]
  },
  {
   "cell_type": "markdown",
   "metadata": {},
   "source": [
    "\n",
    "## Making Recommendations\n",
    "\n",
    "Once the model is trained and evaluated, we use it to make recommendations for users. The model predicts ratings for items that a user has not rated yet, and we recommend the items with the highest predicted ratings.\n"
   ]
  },
  {
   "cell_type": "code",
   "execution_count": 129,
   "metadata": {
    "execution": {
     "iopub.execute_input": "2022-04-19T00:33:41.477131Z",
     "iopub.status.busy": "2022-04-19T00:33:41.476370Z",
     "iopub.status.idle": "2022-04-19T00:33:41.478452Z",
     "shell.execute_reply": "2022-04-19T00:33:41.479021Z",
     "shell.execute_reply.started": "2022-04-15T14:34:14.171728Z"
    },
    "papermill": {
     "duration": 0.24581,
     "end_time": "2022-04-19T00:33:41.479199",
     "exception": false,
     "start_time": "2022-04-19T00:33:41.233389",
     "status": "completed"
    },
    "tags": []
   },
   "outputs": [],
   "source": [
    "# function to recommend top-n books for a user using trained model\n",
    "def recommend_for_user(user_id, n):\n",
    "    ratings_user = ratings_df.filter(col('User-Id')==user_id)\n",
    "    pred_ratings_user = rec_model.transform(ratings_user)\n",
    "    recs_user = books_df.join(pred_ratings_user.select(['ISBN', 'prediction']), on='ISBN')\n",
    "    recs_user.persist(StorageLevel.MEMORY_AND_DISK)\n",
    "    recs_user = recs_user.sort('prediction', ascending=False).drop('prediction').limit(n)\n",
    "    return recs_user, pred_ratings_user"
   ]
  },
  {
   "cell_type": "code",
   "execution_count": 132,
   "metadata": {
    "execution": {
     "iopub.execute_input": "2022-04-19T00:33:41.955209Z",
     "iopub.status.busy": "2022-04-19T00:33:41.954427Z",
     "iopub.status.idle": "2022-04-19T00:34:01.904941Z",
     "shell.execute_reply": "2022-04-19T00:34:01.903258Z",
     "shell.execute_reply.started": "2022-04-15T14:36:04.982456Z"
    },
    "papermill": {
     "duration": 20.187863,
     "end_time": "2022-04-19T00:34:01.905187",
     "exception": false,
     "start_time": "2022-04-19T00:33:41.717324",
     "status": "completed"
    },
    "tags": []
   },
   "outputs": [
    {
     "name": "stdout",
     "output_type": "stream",
     "text": [
      "Recommendations for user 35859:\n",
      "+----------+--------------------+--------------------+-------------------+--------------------+\n",
      "|      ISBN|          Book-Title|         Book-Author|Year-Of-Publication|           Publisher|\n",
      "+----------+--------------------+--------------------+-------------------+--------------------+\n",
      "|030723102X|The Sesame Street...| Emily Perl Kingsley|               1980|Western Pub. Co. ...|\n",
      "|0760707251|Charlottes Web Sp...|           E B White|               1997|  Barnes Noble Books|\n",
      "|0816735107|Halloween Magic (...|          Rita Walsh|               1994|Troll Communications|\n",
      "|0307105458|Richard Scarry's ...|         HUCK SCARRY|               2003|        Golden Books|\n",
      "|0689803672|Richard Scarry: T...|      Richard Scarry|               1995|     Simon Spotlight|\n",
      "|0835911071|Star Trek Next Ge...|       John Vornholt|               1994|        Globe Fearon|\n",
      "|055325605X|Belles on Their Toes|   FRANK B. GILBRETH|               1984|              Bantam|\n",
      "|0694008761|Winter Days in th...|Laura Ingalls Wilder|               1994|Harpercollins Juv...|\n",
      "|0307115364|Richard Scarry's ...|      Richard Scarry|               1993|        Golden Books|\n",
      "|0448411083|Flower Girl (All ...|         Gail Herman|               1996|Grosset &amp; Dunlap|\n",
      "|0694012157|Tell Me Again Abo...|    Jamie Lee Curtis|               1999|Harpercollins Juv...|\n",
      "|0375804080|Rise and Shine (S...|     CONSTANCE ALLEN|               1999|Random House Book...|\n",
      "|0517385562|The American Heri...|        Bruce Catton|               1990|Random House Valu...|\n",
      "|0679887059|Berenstains' A Bo...|     Stan Berenstain|               1997|Random House Chil...|\n",
      "|0394834550|The Little Lamb (...|           Judy Dunn|               1977|Random House Book...|\n",
      "|0307231070|What did you brin...|     Daisy Ellsworth|               1980|Children's Televi...|\n",
      "|0064460118|Mummies Made in E...|               Aliki|               1985|        HarperTrophy|\n",
      "|0671493175|A to Z (Boynton B...|      Sandra Boynton|               1984|        Little Simon|\n",
      "|1579121683|Minnesota (State ...|       Erik A. Bruun|               2002|Black Dog &amp; L...|\n",
      "|0553152041|The Tale of Mrs. ...|      Beatrix Potter|               1983|      Yearling Books|\n",
      "+----------+--------------------+--------------------+-------------------+--------------------+\n",
      "\n"
     ]
    }
   ],
   "source": [
    "user_id = 35859\n",
    "\n",
    "recs_user, pred_ratings_user = recommend_for_user(user_id, 20)\n",
    "print(f\"Recommendations for user {user_id}:\")\n",
    "recs_user.show()"
   ]
  },
  {
   "cell_type": "code",
   "execution_count": 133,
   "metadata": {},
   "outputs": [
    {
     "name": "stdout",
     "output_type": "stream",
     "text": [
      "+-------+----------+-----------+--------+----------+\n",
      "|User-ID|      ISBN|Book-Rating|ISBN_int|prediction|\n",
      "+-------+----------+-----------+--------+----------+\n",
      "|  35859|030723102X|          8|   13175|  9.967698|\n",
      "|  35859|0760707251|         10|   53493|  9.675309|\n",
      "|  35859|0816735107|         10|   76288|  9.656375|\n",
      "|  35859|0760702152|         10|  238778|  9.544891|\n",
      "|  35859|0307760278|         10|   60855|  9.544891|\n",
      "|  35859|0762411236|         10|  239348|  9.544891|\n",
      "|  35859|0307101630|         10|   29354|  9.544891|\n",
      "|  35859|0307115356|         10|   60725|  9.544891|\n",
      "|  35859|0307115364|         10|   90272|  9.544891|\n",
      "|  35859|0307120252|         10|   90311|  9.544891|\n",
      "|  35859|0394834550|         10|  187208|  9.544891|\n",
      "|  35859|067981230X|         10|  225211|  9.544891|\n",
      "|  35859| 059016555|         10|  213791|  9.544891|\n",
      "|  35859|0064460118|         10|  150938|  9.544891|\n",
      "|  35859|0717284662|         10|  115580|  9.544891|\n",
      "|  35859|0307231070|         10|   90446|  9.544891|\n",
      "|  35859|1405414022|         10|  277531|  9.544891|\n",
      "|  35859|0004722124|         10|   83990|  9.544891|\n",
      "|  35859|0842321470|         10|  122949|  9.544891|\n",
      "|  35859|0394800192|         10|   99961|  9.544891|\n",
      "+-------+----------+-----------+--------+----------+\n",
      "only showing top 20 rows\n",
      "\n"
     ]
    }
   ],
   "source": [
    "# pred_ratings_user = pred_ratings_user.withColumn('prediction', when(col('prediction') > 10, 10).otherwise(col('prediction')))\n",
    "pred_ratings_user.sort('prediction', ascending=False).show(20)"
   ]
  },
  {
   "cell_type": "code",
   "execution_count": 98,
   "metadata": {},
   "outputs": [],
   "source": [
    "#spark.stop()"
   ]
  }
 ],
 "metadata": {
  "kernelspec": {
   "display_name": "Python 3",
   "language": "python",
   "name": "python3"
  },
  "language_info": {
   "codemirror_mode": {
    "name": "ipython",
    "version": 3
   },
   "file_extension": ".py",
   "mimetype": "text/x-python",
   "name": "python",
   "nbconvert_exporter": "python",
   "pygments_lexer": "ipython3",
   "version": "3.12.3"
  },
  "papermill": {
   "duration": 280.903201,
   "end_time": "2022-04-19T00:34:02.356521",
   "environment_variables": {},
   "exception": null,
   "input_path": "__notebook__.ipynb",
   "output_path": "__notebook__.ipynb",
   "parameters": {},
   "start_time": "2022-04-19T00:29:21.453320",
   "version": "2.1.0"
  }
 },
 "nbformat": 4,
 "nbformat_minor": 4
}
